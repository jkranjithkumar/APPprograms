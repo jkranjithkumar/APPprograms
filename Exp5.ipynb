{
 "cells": [
  {
   "cell_type": "markdown",
   "metadata": {},
   "source": [
    "# Programm to implement left click,rightclick and middle click events"
   ]
  },
  {
   "cell_type": "code",
   "execution_count": 5,
   "metadata": {},
   "outputs": [
    {
     "name": "stdout",
     "output_type": "stream",
     "text": [
      "leftclick\n",
      "rightclick\n",
      "rightclick\n",
      "middleclick\n"
     ]
    }
   ],
   "source": [
    "from tkinter import *\n",
    "root = Tk()\n",
    "def rightclick(ev):\n",
    "    print(\"rightclick\")\n",
    "def leftclick(ev):\n",
    "    print(\"leftclick\")\n",
    "def middleclick(ev):\n",
    "    print(\"middleclick\")\n",
    "frame =Frame(root,width=300,height=200,bg=\"pink\",relief=RAISED)\n",
    "frame.bind(\"<Button-1>\",leftclick)\n",
    "frame.bind(\"<Button-2>\",middleclick)\n",
    "frame.bind(\"<Button-3>\",rightclick)\n",
    "frame.pack()\n",
    "root.mainloop()\n",
    "\n"
   ]
  },
  {
   "cell_type": "markdown",
   "metadata": {},
   "source": [
    "# Program to implement mouse events"
   ]
  },
  {
   "cell_type": "code",
   "execution_count": 11,
   "metadata": {},
   "outputs": [
    {
     "name": "stdout",
     "output_type": "stream",
     "text": [
      "Mouse position: (155 3)\n"
     ]
    }
   ],
   "source": [
    "from tkinter import *\n",
    "\n",
    "def motion(event):\n",
    "    print(\"Mouse position: (%s %s)\" % (event.x,event.y))\n",
    "    return\n",
    "master=Tk()\n",
    "Do_heart_tells=\"Do what your heart tells you.\\n Enjoy your life like you wish\"\n",
    "msg =Message(master,text = Do_heart_tells)\n",
    "msg.config(bg=\"light pink\",font=('times',20,'italic'))\n",
    "msg.bind('<Enter>',motion)\n",
    "msg.pack()\n",
    "mainloop()"
   ]
  },
  {
   "cell_type": "markdown",
   "metadata": {},
   "source": [
    "# program to capture keyboard events"
   ]
  },
  {
   "cell_type": "code",
   "execution_count": 20,
   "metadata": {},
   "outputs": [
    {
     "name": "stdout",
     "output_type": "stream",
     "text": [
      "clicked at 79 74\n",
      "clicked at 37 26\n",
      "pressed 'h'\n",
      "pressed 'p'\n"
     ]
    }
   ],
   "source": [
    "from tkinter import *\n",
    "root =Tk()\n",
    "def key(event):\n",
    "    print(\"pressed\",repr(event.char))\n",
    "def callback(event):\n",
    "    frame.focus_set()\n",
    "    print(\"clicked at\",event.x,event.y)\n",
    "frame =Frame(root,width=100,height=100,bg=\"pink\")\n",
    "frame.bind(\"<Key>\" ,key)\n",
    "frame.bind(\"<Button-1>\" ,callback)\n",
    "frame.pack()\n",
    "root.mainloop()"
   ]
  },
  {
   "cell_type": "markdown",
   "metadata": {},
   "source": [
    "# Program to implement the keypress event"
   ]
  },
  {
   "cell_type": "code",
   "execution_count": null,
   "metadata": {},
   "outputs": [],
   "source": [
    "from tki"
   ]
  }
 ],
 "metadata": {
  "kernelspec": {
   "display_name": "Python 3",
   "language": "python",
   "name": "python3"
  },
  "language_info": {
   "codemirror_mode": {
    "name": "ipython",
    "version": 3
   },
   "file_extension": ".py",
   "mimetype": "text/x-python",
   "name": "python",
   "nbconvert_exporter": "python",
   "pygments_lexer": "ipython3",
   "version": "3.8.5"
  }
 },
 "nbformat": 4,
 "nbformat_minor": 4
}
