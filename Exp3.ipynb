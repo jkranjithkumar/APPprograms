{
 "cells": [
  {
   "cell_type": "markdown",
   "metadata": {},
   "source": [
    "# Write a program to create bank account and to perform deposit and withdraw operations using class and objects"
   ]
  },
  {
   "cell_type": "code",
   "execution_count": 2,
   "metadata": {},
   "outputs": [
    {
     "name": "stdout",
     "output_type": "stream",
     "text": [
      "Account created\n",
      "Enter amount to be Deposited: 10000\n",
      "\n",
      " Amount Deposited: 10000.0\n",
      "Enter amount to be Withdrawn: 5000\n",
      "\n",
      " You Withdrew: 5000.0\n",
      "\n",
      " Net Available Balance= 5000.0\n"
     ]
    }
   ],
   "source": [
    "\n",
    "class Bank_Account: \n",
    "    def __init__(self): \n",
    "        self.balance=0\n",
    "        print(\"Account created\")\n",
    "  \n",
    "    def deposit(self): \n",
    "        amount=float(input(\"Enter amount to be Deposited: \")) \n",
    "        self.balance += amount \n",
    "        print(\"\\n Amount Deposited:\",amount) \n",
    "  \n",
    "    def withdraw(self): \n",
    "        amount = float(input(\"Enter amount to be Withdrawn: \")) \n",
    "        if self.balance>=amount: \n",
    "            self.balance-=amount \n",
    "            print(\"\\n You Withdrew:\", amount) \n",
    "        else: \n",
    "            print(\"\\n Insufficient balance  \") \n",
    "  \n",
    "    def display(self): \n",
    "        print(\"\\n Net Available Balance=\",self.balance) \n",
    "\n",
    "s = Bank_Account() \n",
    "\n",
    "s.deposit() \n",
    "s.withdraw() \n",
    "s.display() "
   ]
  },
  {
   "cell_type": "markdown",
   "metadata": {},
   "source": [
    "# Write a program to create employee class using constructor and destructor and  to get ID, name, gender , city and salary"
   ]
  },
  {
   "cell_type": "code",
   "execution_count": 1,
   "metadata": {},
   "outputs": [
    {
     "name": "stdout",
     "output_type": "stream",
     "text": [
      "Object Initialized.\n",
      "Enter Id:1\n",
      "Enter Name:ranjith kumar JK\n",
      "Enter Gender:male\n",
      "Enter City:chennai\n",
      "Enter Salary:10000\n",
      "Id: 1\n",
      "Name: ranjith kumar JK\n",
      "Gender: male\n",
      "City: chennai\n",
      "Salary: 10000\n",
      "<__main__.Employee object at 0x000001E72754AD00>\n",
      "Object Destroyed.\n"
     ]
    }
   ],
   "source": [
    "class Employee:\n",
    "    def __init__(self):\n",
    "        self.id = 0\n",
    "        self.name = \"\"\n",
    "        self.gender = \"\"\n",
    "        self.city = \"\"\n",
    "        self.salary = 0\n",
    "        print(\"Object Initialized.\")\n",
    "    def __del__(self): \n",
    "        print(\"Object Destroyed.\")\n",
    "    def set(self):\n",
    "        self.id=int(input(\"Enter Id:\"))\n",
    "        self.name = input(\"Enter Name:\")\n",
    "        self.gender = input(\"Enter Gender:\")\n",
    "        self.city = input(\"Enter City:\")\n",
    "        self.salary = int(input(\"Enter Salary:\"))\n",
    "  \n",
    "    def show(self):\n",
    "        print(\"Id:\",self.id)\n",
    "        print(\"Name:\", self.name)\n",
    "        print(\"Gender:\", self.gender)\n",
    "        print(\"City:\", self.city)\n",
    "        print(\"Salary:\", self.salary)\n",
    "\n",
    "\n",
    "def main():\n",
    "    emp=Employee()\n",
    "    emp.set()\n",
    "    emp.show()\n",
    "    print(emp)\n",
    "\n",
    "if __name__==\"__main__\":\n",
    "    main()"
   ]
  },
  {
   "cell_type": "markdown",
   "metadata": {},
   "source": [
    "# To create the student class that consists of name, id and age attribute and to create the object of the student, to print attribute name of the object, to reset the value of the age, to print the modified value of age  , to print true if the student contains the attribute with name and  to delete the attribute age.      "
   ]
  },
  {
   "cell_type": "code",
   "execution_count": 4,
   "metadata": {},
   "outputs": [
    {
     "name": "stdout",
     "output_type": "stream",
     "text": [
      "Ranjith Kumar JK\n",
      "1\n",
      "19\n",
      "Modified age: 10\n",
      "Reseted\n",
      "19\n"
     ]
    }
   ],
   "source": [
    "class Student:\n",
    "    name=\"Ranjith Kumar JK\"\n",
    "    id=1\n",
    "    age=19\n",
    "def resetVar():\n",
    "    student.age=old_age\n",
    "    print(\"Reseted\")\n",
    "student=Student()\n",
    "print(student.name)\n",
    "print(student.id)\n",
    "print(student.age)\n",
    "old_age=student.age\n",
    "student.age=10\n",
    "print(\"Modified age:\",student.age)\n",
    "resetVar()\n",
    "print(student.age)"
   ]
  },
  {
   "cell_type": "markdown",
   "metadata": {},
   "source": [
    "# To implement the object oriented concepts.There are 258 computers available in computer programming lab where each computers are used eight hours per day. Write a Python  program using classes and objects that contain getDetail() for getting input from  user,calculatesecondperDay() for calculating the usage of each computer in seconds per day, calculateminutesperWeek() for calculating the usage of each computer in minutes per week ,calculatehourperMonth() for calculating usage of each computer i"
   ]
  },
  {
   "cell_type": "code",
   "execution_count": 2,
   "metadata": {},
   "outputs": [
    {
     "name": "stdout",
     "output_type": "stream",
     "text": [
      "enter number of computers:250\n",
      "no.of seconds: 7200000\n",
      "no.of weeks: 840000\n",
      "no.of months: 60000\n"
     ]
    }
   ],
   "source": [
    "class comp:\n",
    "    def check(self):\n",
    "        if(self.computer>258):\n",
    "            print(\"please enter a value below 258\")\n",
    "            self.getDetail()\n",
    "    def getDetail(self):\n",
    "        self.computer = int(input(\"enter number of computers:\"))\n",
    "        self.check()\n",
    "    def calculatesecondperDay(self):\n",
    "        seconds = self.computer*60*60*8\n",
    "        print(\"no.of seconds: \"+ str(seconds))\n",
    "    def calculateminutesperWeek(self):\n",
    "        minutes = self.computer*60*8*7\n",
    "        print(\"no.of weeks: \" + str(minutes))\n",
    "    def calculatehourperMonth(self):\n",
    "        hours = self.computer*8*30\n",
    "        print(\"no.of months: \" + str(hours))\n",
    "\n",
    "new = comp()\n",
    "new.getDetail()\n",
    "new.calculatesecondperDay()\n",
    "new.calculateminutesperWeek()\n",
    "new.calculatehourperMonth()"
   ]
  }
 ],
 "metadata": {
  "kernelspec": {
   "display_name": "Python 3",
   "language": "python",
   "name": "python3"
  },
  "language_info": {
   "codemirror_mode": {
    "name": "ipython",
    "version": 3
   },
   "file_extension": ".py",
   "mimetype": "text/x-python",
   "name": "python",
   "nbconvert_exporter": "python",
   "pygments_lexer": "ipython3",
   "version": "3.8.5"
  }
 },
 "nbformat": 4,
 "nbformat_minor": 4
}
