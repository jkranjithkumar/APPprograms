{
 "cells": [
  {
   "cell_type": "markdown",
   "metadata": {},
   "source": [
    "# Compound Intrest"
   ]
  },
  {
   "cell_type": "code",
   "execution_count": 1,
   "metadata": {},
   "outputs": [
    {
     "name": "stdout",
     "output_type": "stream",
     "text": [
      "Enter the rate9\n",
      "Enter the principle9800\n",
      "Enter time4\n",
      "Compound intrest is 4033.499778000005\n"
     ]
    }
   ],
   "source": [
    "rate=float(input(\"Enter the rate\"))\n",
    "principle=float(input(\"Enter the principle\"))\n",
    "time=float(input(\"Enter time\"))\n",
    "Amount=principle*((1+rate/100)**time)\n",
    "CI=Amount-principle\n",
    "print(\"Compound intrest is \"+str(CI) )"
   ]
  },
  {
   "cell_type": "markdown",
   "metadata": {},
   "source": [
    "# Cube till a integer"
   ]
  },
  {
   "cell_type": "code",
   "execution_count": 2,
   "metadata": {},
   "outputs": [
    {
     "name": "stdout",
     "output_type": "stream",
     "text": [
      "enter the number:6\n",
      "the cube of digit 1 is1\n",
      "the cube of digit 2 is8\n",
      "the cube of digit 3 is27\n",
      "the cube of digit 4 is64\n",
      "the cube of digit 5 is125\n",
      "the cube of digit 6 is216\n"
     ]
    }
   ],
   "source": [
    "i=1\n",
    "num = int(input(\"enter the number:\"))\n",
    "while i <= num:\n",
    "    cbe = i*i*i\n",
    "    print(\"the cube of digit \" +  str(i) + \" is\"  + str(cbe))\n",
    "    i=i+1"
   ]
  },
  {
   "cell_type": "markdown",
   "metadata": {},
   "source": [
    "# Kilometer to miles"
   ]
  },
  {
   "cell_type": "code",
   "execution_count": 3,
   "metadata": {},
   "outputs": [
    {
     "name": "stdout",
     "output_type": "stream",
     "text": [
      "Enter valur in Kilometers: 456\n",
      "The value of given kilometer in miles is: 283.345176\n"
     ]
    }
   ],
   "source": [
    "km=float(input(\"Enter valur in Kilometers: \"))\n",
    "const=0.621371\n",
    "miles=km*const\n",
    "print(\"The value of given kilometer in miles is: \" + str(miles))"
   ]
  },
  {
   "cell_type": "markdown",
   "metadata": {},
   "source": [
    "# Matrix multiplication using nested loop"
   ]
  },
  {
   "cell_type": "code",
   "execution_count": 5,
   "metadata": {},
   "outputs": [
    {
     "name": "stdout",
     "output_type": "stream",
     "text": [
      "[2350, 4766, 3863]\n",
      "[1826, 3491, 2900]\n",
      "[854, 1539, 1390]\n"
     ]
    }
   ],
   "source": [
    "A = [[37, 27, 46], \n",
    "    [41, 13, 35], \n",
    "    [29,2, 15]] \n",
    "    \n",
    "B = [[10, 20, 31], \n",
    "    [12, 52, 58], \n",
    "    [36, 57, 25]] \n",
    "      \n",
    "result = [[0, 0, 0], \n",
    "        [0, 0, 0], \n",
    "        [0, 0, 0]] \n",
    "  \n",
    "for i in range(len(A)): \n",
    "  \n",
    "    for j in range(len(B[0])): \n",
    "  \n",
    "        for k in range(len(B)): \n",
    "            result[i][j] += A[i][k] * B[k][j] \n",
    "  \n",
    "for r in result: \n",
    "    print(r) "
   ]
  },
  {
   "cell_type": "markdown",
   "metadata": {},
   "source": [
    "# Payroll clalulator"
   ]
  },
  {
   "cell_type": "code",
   "execution_count": 6,
   "metadata": {},
   "outputs": [
    {
     "name": "stdout",
     "output_type": "stream",
     "text": [
      "enter your name or enter 0 to quit:Ranjith\n",
      "enter hours worked:60\n",
      "enter pay rate:40\n",
      "employee name:Ranjith\n",
      "regular pay: 1600\n",
      "overtime pay: 900\n",
      "gross pay: 2500\n",
      "enter your name or enter 0 to quit:0\n"
     ]
    }
   ],
   "source": [
    "name = '1'\n",
    "\n",
    "while name!='0':\n",
    "    overtime = 0\n",
    "    regular_pay =0\n",
    "    gross_pay = 0\n",
    "    overtime_pay = 0\n",
    "    hours_worked = 0\n",
    "    name = input(\"enter your name or enter 0 to quit:\")\t\n",
    "    if name == '0':\n",
    "        continue\n",
    "    else:\n",
    "        hours_worked = int(input(\"enter hours worked:\"))\n",
    "        pay_rate = int(input(\"enter pay rate:\"))\n",
    "        overtime = hours_worked - 40\n",
    "        if overtime>0:\n",
    "            overtime_pay = overtime*(pay_rate+5)\n",
    "            regular_pay = (hours_worked-overtime)*pay_rate\n",
    "            gross_pay = overtime_pay+regular_pay\n",
    "            print(\"employee name: \"+name)\n",
    "            print(\"regular pay: \"+str(regular_pay))\n",
    "            print(\"overtime pay: \"+str(overtime_pay)) \n",
    "            print(\"gross pay: \"+str(gross_pay))\n",
    "\n",
    "        else:\n",
    "            regular_pay = (hours_worked)*pay_rate\n",
    "            gross_pay = regular_pay\t\n",
    "            overtime_pay = 0\n",
    "\n",
    "            print(\"employee name: \"+name)\n",
    "            print(\"regular pay: \"+str(regular_pay))\n",
    "            print(\"overtime pay: \"+str(overtime_pay)) \n",
    "            print(\"gross pay: \"+str(gross_pay))   \n",
    "\n"
   ]
  },
  {
   "cell_type": "markdown",
   "metadata": {},
   "source": [
    "# Star Series"
   ]
  },
  {
   "cell_type": "code",
   "execution_count": 19,
   "metadata": {},
   "outputs": [
    {
     "name": "stdout",
     "output_type": "stream",
     "text": [
      "* \r\n",
      "* * \r\n",
      "* * * \r\n",
      "* * * * \r\n",
      "* * * * * \r\n",
      "* * * * \r\n",
      "* * * \r\n",
      "* * \r\n",
      "* \r\n",
      "\r\n"
     ]
    }
   ],
   "source": [
    "rows = 5\n",
    "for i in range(0, rows):\n",
    "    for j in range(0, i + 1):\n",
    "        print(\"*\", end=' ')\n",
    "    print(\"\\r\")\n",
    "for i in range(rows, 0, -1):\n",
    "    for j in range(0, i - 1):\n",
    "        print(\"*\", end=' ')\n",
    "    print(\"\\r\")"
   ]
  },
  {
   "cell_type": "markdown",
   "metadata": {},
   "source": [
    "# Reversing a number"
   ]
  },
  {
   "cell_type": "code",
   "execution_count": 11,
   "metadata": {},
   "outputs": [
    {
     "name": "stdout",
     "output_type": "stream",
     "text": [
      "Enter the number:476\n",
      "The reversed number is: 674\n"
     ]
    }
   ],
   "source": [
    "num = int(input(\"Enter the number:\"))\n",
    "rev = 0\n",
    "rem = 0\n",
    "while num > 0:\n",
    "    rem = num % 10  \n",
    "    rev = (rev*10) + rem\n",
    "    num = num//10 \n",
    "print(\"The reversed number is: \" +str(rev))"
   ]
  },
  {
   "cell_type": "markdown",
   "metadata": {},
   "source": [
    "# Sum of series"
   ]
  },
  {
   "cell_type": "code",
   "execution_count": 14,
   "metadata": {},
   "outputs": [
    {
     "name": "stdout",
     "output_type": "stream",
     "text": [
      "Enter no.of terms:7\n",
      "2+22+222+2222+22222+222222+2222222+\n",
      "Sum of the above series: 2469134\n"
     ]
    }
   ],
   "source": [
    "number=int(input(\"Enter no.of terms:\"))\n",
    "start=2\n",
    "sum=0\n",
    "for i in range(0,number):\n",
    "\tprint(start,end=\"+\")\n",
    "\tsum += start\n",
    "\tstart=(start * 10) + 2\n",
    "print(\"\\nSum of the above series: \"+ str(sum))"
   ]
  },
  {
   "cell_type": "code",
   "execution_count": null,
   "metadata": {},
   "outputs": [],
   "source": []
  }
 ],
 "metadata": {
  "kernelspec": {
   "display_name": "Python 3",
   "language": "python",
   "name": "python3"
  },
  "language_info": {
   "codemirror_mode": {
    "name": "ipython",
    "version": 3
   },
   "file_extension": ".py",
   "mimetype": "text/x-python",
   "name": "python",
   "nbconvert_exporter": "python",
   "pygments_lexer": "ipython3",
   "version": "3.8.5"
  }
 },
 "nbformat": 4,
 "nbformat_minor": 4
}
