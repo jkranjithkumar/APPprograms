{
 "cells": [
  {
   "cell_type": "markdown",
   "metadata": {},
   "source": [
    "# Write a program to generate list of random numbers using procedure"
   ]
  },
  {
   "cell_type": "code",
   "execution_count": 2,
   "metadata": {},
   "outputs": [
    {
     "name": "stdout",
     "output_type": "stream",
     "text": [
      "[27, 11, 26, 14, 15]\n"
     ]
    }
   ],
   "source": [
    "import random\n",
    "\n",
    "a=[random.randint(10,30) for i in range(5)]\n",
    "print(a)"
   ]
  },
  {
   "cell_type": "markdown",
   "metadata": {},
   "source": [
    "# Write a program to return the largest Fibonacci number smaller than x and the lowest fibonacci number higher than x"
   ]
  },
  {
   "cell_type": "code",
   "execution_count": 3,
   "metadata": {
    "scrolled": true
   },
   "outputs": [
    {
     "name": "stdout",
     "output_type": "stream",
     "text": [
      "Enter a number: 1\n",
      "Largest number in fabonacci series : 2\n",
      "Smallest number in fibonacci series : 1\n"
     ]
    }
   ],
   "source": [
    "x=int(input(\"Enter a number: \"))\n",
    "\n",
    "n1=0\n",
    "n2=1\n",
    "\n",
    "while n2 <= x:\n",
    "    n3=n2 + n1\n",
    "    n1=n2\n",
    "    n2=n3\n",
    "    \n",
    "print(\"Largest number in fabonacci series :\", n2)\n",
    "print(\"Smallest number in fibonacci series :\", n2-n1)"
   ]
  },
  {
   "cell_type": "markdown",
   "metadata": {},
   "source": [
    "# write a Python program that accepts a hyphen-separated sequence of words as input and prints the words in a hyphen-separated sequence after sorting them alphabetically."
   ]
  },
  {
   "cell_type": "code",
   "execution_count": 1,
   "metadata": {},
   "outputs": [
    {
     "name": "stdout",
     "output_type": "stream",
     "text": [
      "Enter the sentance seperated by hypen: cat-ball-dog-apple\n",
      "apple-ball-cat-dog\n"
     ]
    }
   ],
   "source": [
    "string = input(\"Enter the sentance seperated by hypen: \")\n",
    "\n",
    "words = string.split(\"-\")\n",
    "\n",
    "sorted_words = sorted(words)\n",
    "\n",
    "hyphen = \"-\"\n",
    "\n",
    "hyphen = hyphen.join(sorted_words)\n",
    "\n",
    "print(hyphen)"
   ]
  },
  {
   "cell_type": "markdown",
   "metadata": {},
   "source": [
    "# Write a Python program to make a chain of function decorators (bold, italic, underline etc.)"
   ]
  },
  {
   "cell_type": "code",
   "execution_count": 13,
   "metadata": {},
   "outputs": [
    {
     "name": "stdout",
     "output_type": "stream",
     "text": [
      "<b><i><u>hello world</u></i></b>\n"
     ]
    }
   ],
   "source": [
    "def make_bold(fn):\n",
    "     def wrapped():\n",
    "        return \"<b>\" + fn() + \"</b>\"\n",
    "     return wrapped\n",
    "def make_italic(fn):\n",
    "     def wrapped():\n",
    "        return \"<i>\" + fn() + \"</i>\"\n",
    "     return wrapped\n",
    "def make_underline(fn):\n",
    "     def wrapped():\n",
    "        return \"<u>\" + fn() + \"</u>\"\n",
    "     return wrapped\n",
    "@make_bold\n",
    "@make_italic\n",
    "@make_underline\n",
    "def hello():\n",
    "    return \"hello world\"\n",
    "print(hello()) \n"
   ]
  },
  {
   "cell_type": "markdown",
   "metadata": {},
   "source": [
    "# Write a Python program to access a function inside a function."
   ]
  },
  {
   "cell_type": "code",
   "execution_count": 2,
   "metadata": {},
   "outputs": [
    {
     "name": "stdout",
     "output_type": "stream",
     "text": [
      "Enter a string:Ranjith\n",
      "Ranjith\n"
     ]
    }
   ],
   "source": [
    "def print_msg(msg):\n",
    "\n",
    "    def printer():\n",
    "        print(msg)\n",
    "\n",
    "    return printer \n",
    "\n",
    "another = print_msg(input(\"Enter a string:\"))\n",
    "another()"
   ]
  },
  {
   "cell_type": "markdown",
   "metadata": {},
   "source": [
    "# Write a Python function that takes a list and returns a new list with unique elements of the first list."
   ]
  },
  {
   "cell_type": "code",
   "execution_count": 14,
   "metadata": {},
   "outputs": [
    {
     "name": "stdout",
     "output_type": "stream",
     "text": [
      "[27, 37, 41, 13]\n"
     ]
    }
   ],
   "source": [
    "def unique_list(l):\n",
    "  x = []\n",
    "  for a in l:\n",
    "    if a not in x:\n",
    "      x.append(a)\n",
    "  return x\n",
    "\n",
    "print(unique_list([27,37,41,13,27,37,27,27])) \n",
    "\n"
   ]
  },
  {
   "cell_type": "markdown",
   "metadata": {},
   "source": [
    "# Write a Python function to check whether a string is a pangram or not"
   ]
  },
  {
   "cell_type": "code",
   "execution_count": 16,
   "metadata": {},
   "outputs": [
    {
     "name": "stdout",
     "output_type": "stream",
     "text": [
      "Enter a word or sentance\n",
      "I am Ranjith Kumar JK\n",
      "No\n"
     ]
    }
   ],
   "source": [
    "import string\n",
    "\n",
    "def ispangram(str):\n",
    "    alphabet = \"abcdefchijklmnopqrstuvwxyz\"\n",
    "    for char in alphabet:\n",
    "        if char not in str.lower():\n",
    "            return False\n",
    "    return True\n",
    "\n",
    "string=input(\"Enter a word or sentance\\n\")\n",
    "if(ispangram(string)==True):\n",
    "    print(\"Yes\")\n",
    "else:\n",
    "    print(\"No\")"
   ]
  }
 ],
 "metadata": {
  "kernelspec": {
   "display_name": "Python 3",
   "language": "python",
   "name": "python3"
  },
  "language_info": {
   "codemirror_mode": {
    "name": "ipython",
    "version": 3
   },
   "file_extension": ".py",
   "mimetype": "text/x-python",
   "name": "python",
   "nbconvert_exporter": "python",
   "pygments_lexer": "ipython3",
   "version": "3.8.5"
  }
 },
 "nbformat": 4,
 "nbformat_minor": 4
}
