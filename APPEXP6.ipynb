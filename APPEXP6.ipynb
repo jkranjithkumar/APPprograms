{
 "cells": [
  {
   "cell_type": "markdown",
   "metadata": {},
   "source": [
    "# To Write a Python Program to create a company table that consists of name, age,address and salary attributes using sqlite3 and to insert five records into the table and to perform select, display, update and delete operations."
   ]
  },
  {
   "cell_type": "code",
   "execution_count": 26,
   "metadata": {},
   "outputs": [
    {
     "name": "stdout",
     "output_type": "stream",
     "text": [
      "Table created succesfully\n",
      "Opened database succesfully\n",
      "ID=  1\n",
      "NAME=  Oviya\n",
      "AGE=  19\n",
      "ADDRESS =  Chennai\n",
      "SALARY=  10000\n",
      "ID=  2\n",
      "NAME=  Pavi\n",
      "AGE=  22\n",
      "ADDRESS =  dindugal\n",
      "SALARY=  20000\n",
      "ID=  3\n",
      "NAME=  Deepa\n",
      "AGE=  25\n",
      "ADDRESS =  thirunelveli\n",
      "SALARY=  23000\n",
      "Operation done successfully\n",
      "ID=  1\n",
      "NAME=  Oviya\n",
      "AGE=  19\n",
      "ADDRESS =  Chennai\n",
      "SALARY=  10000\n",
      "ID=  3\n",
      "NAME=  Deepa\n",
      "AGE=  25\n",
      "ADDRESS =  thirunelveli\n",
      "SALARY=  23000\n",
      "Operation done successfully\n"
     ]
    }
   ],
   "source": [
    "import sqlite3\n",
    "conn = sqlite3.connect('amil.db')\n",
    "#conn.execute(\"CREATE TABLE company(ID INT PRIMARY KEY NOT NULL,NAME TEXT NOT NULL,ADDRESS TEXT NOT NULL,AGE INT NOT NULL,SALARY INT NOT NULL)\")\n",
    "print(\"Table created succesfully\")\n",
    "print (\"Opened database succesfully\")\n",
    "conn.execute(\"INSERT OR IGNORE INTO company(ID,NAME,AGE,ADDRESS ,SALARY) VALUES (1,'Oviya',19,'Chennai',10000)\")\n",
    "conn.commit()\n",
    "conn.execute(\"INSERT OR IGNORE INTO company(ID,NAME,AGE,ADDRESS ,SALARY) VALUES (2,'Pavi',22,'dindugal',20000)\")\n",
    "conn.commit()\n",
    "conn.execute(\"INSERT OR IGNORE INTO company(ID,NAME,AGE,ADDRESS ,SALARY) VALUES (3,'Deepa',25,'thirunelveli',23000)\")\n",
    "conn.commit()\n",
    "\n",
    "cursor = conn.execute(\"SELECT * FROM company\")\n",
    "for r in cursor:\n",
    "    print(\"ID= \",r[0])\n",
    "    print('NAME= ',r[1])\n",
    "    print(\"AGE= \",r[2])\n",
    "    print(\"ADDRESS = \",r[3])\n",
    "    print(\"SALARY= \",r[4])\n",
    "print(\"Operation done successfully\");\n",
    "conn.execute(\"DELETE from company where ID = 2;\")\n",
    "conn.commit()\n",
    "cursor = conn.execute(\"SELECT * FROM company\")\n",
    "for r in cursor:\n",
    "    print(\"ID= \",r[0])\n",
    "    print('NAME= ',r[1])\n",
    "    print(\"AGE= \",r[2])\n",
    "    print(\"ADDRESS = \",r[3])\n",
    "    print(\"SALARY= \",r[4])\n",
    "print(\"Operation done successfully\");\n",
    "conn.close()"
   ]
  },
  {
   "cell_type": "code",
   "execution_count": null,
   "metadata": {},
   "outputs": [],
   "source": []
  }
 ],
 "metadata": {
  "kernelspec": {
   "display_name": "Python 3",
   "language": "python",
   "name": "python3"
  },
  "language_info": {
   "codemirror_mode": {
    "name": "ipython",
    "version": 3
   },
   "file_extension": ".py",
   "mimetype": "text/x-python",
   "name": "python",
   "nbconvert_exporter": "python",
   "pygments_lexer": "ipython3",
   "version": "3.8.5"
  }
 },
 "nbformat": 4,
 "nbformat_minor": 4
}
